{
 "cells": [
  {
   "cell_type": "code",
   "execution_count": 160,
   "metadata": {},
   "outputs": [],
   "source": [
    "import pandas as pd\n"
   ]
  },
  {
   "cell_type": "code",
   "execution_count": 161,
   "metadata": {},
   "outputs": [],
   "source": [
    "internet_penetracion = pd.read_csv (\"Datasets/Internet_Penetracion.csv\", delimiter=\",\",thousands='.', decimal=',')"
   ]
  },
  {
   "cell_type": "code",
   "execution_count": 162,
   "metadata": {},
   "outputs": [
    {
     "data": {
      "text/html": [
       "<div>\n",
       "<style scoped>\n",
       "    .dataframe tbody tr th:only-of-type {\n",
       "        vertical-align: middle;\n",
       "    }\n",
       "\n",
       "    .dataframe tbody tr th {\n",
       "        vertical-align: top;\n",
       "    }\n",
       "\n",
       "    .dataframe thead th {\n",
       "        text-align: right;\n",
       "    }\n",
       "</style>\n",
       "<table border=\"1\" class=\"dataframe\">\n",
       "  <thead>\n",
       "    <tr style=\"text-align: right;\">\n",
       "      <th></th>\n",
       "      <th>Año</th>\n",
       "      <th>Trimestre</th>\n",
       "      <th>Provincia</th>\n",
       "      <th>Accesos por cada 100 hogares</th>\n",
       "    </tr>\n",
       "  </thead>\n",
       "  <tbody>\n",
       "    <tr>\n",
       "      <th>0</th>\n",
       "      <td>2022</td>\n",
       "      <td>3</td>\n",
       "      <td>Buenos Aires</td>\n",
       "      <td>78.11</td>\n",
       "    </tr>\n",
       "    <tr>\n",
       "      <th>1</th>\n",
       "      <td>2022</td>\n",
       "      <td>3</td>\n",
       "      <td>Capital Federal</td>\n",
       "      <td>122.28</td>\n",
       "    </tr>\n",
       "    <tr>\n",
       "      <th>2</th>\n",
       "      <td>2022</td>\n",
       "      <td>3</td>\n",
       "      <td>Catamarca</td>\n",
       "      <td>65.33</td>\n",
       "    </tr>\n",
       "    <tr>\n",
       "      <th>3</th>\n",
       "      <td>2022</td>\n",
       "      <td>3</td>\n",
       "      <td>Chaco</td>\n",
       "      <td>43.86</td>\n",
       "    </tr>\n",
       "    <tr>\n",
       "      <th>4</th>\n",
       "      <td>2022</td>\n",
       "      <td>3</td>\n",
       "      <td>Chubut</td>\n",
       "      <td>84.38</td>\n",
       "    </tr>\n",
       "  </tbody>\n",
       "</table>\n",
       "</div>"
      ],
      "text/plain": [
       "    Año  Trimestre        Provincia  Accesos por cada 100 hogares\n",
       "0  2022          3     Buenos Aires                         78.11\n",
       "1  2022          3  Capital Federal                        122.28\n",
       "2  2022          3        Catamarca                         65.33\n",
       "3  2022          3            Chaco                         43.86\n",
       "4  2022          3           Chubut                         84.38"
      ]
     },
     "execution_count": 162,
     "metadata": {},
     "output_type": "execute_result"
    }
   ],
   "source": [
    "internet_penetracion.head()"
   ]
  },
  {
   "cell_type": "code",
   "execution_count": 163,
   "metadata": {},
   "outputs": [
    {
     "name": "stdout",
     "output_type": "stream",
     "text": [
      "<class 'pandas.core.frame.DataFrame'>\n",
      "RangeIndex: 840 entries, 0 to 839\n",
      "Data columns (total 4 columns):\n",
      " #   Column                        Non-Null Count  Dtype  \n",
      "---  ------                        --------------  -----  \n",
      " 0   Año                           840 non-null    int64  \n",
      " 1   Trimestre                     840 non-null    int64  \n",
      " 2   Provincia                     840 non-null    object \n",
      " 3   Accesos por cada 100 hogares  840 non-null    float64\n",
      "dtypes: float64(1), int64(2), object(1)\n",
      "memory usage: 26.4+ KB\n"
     ]
    }
   ],
   "source": [
    "internet_penetracion.info()"
   ]
  },
  {
   "cell_type": "code",
   "execution_count": 164,
   "metadata": {},
   "outputs": [],
   "source": [
    "#convertimos las variables año, trimestre y provincia a variables categoricas\n",
    "internet_penetracion['Año'] = internet_penetracion['Año'].astype(str)\n",
    "internet_penetracion['Trimestre'] = internet_penetracion['Trimestre'].astype(str)\n",
    "internet_penetracion['Provincia'] = internet_penetracion['Provincia'].astype(str)"
   ]
  },
  {
   "cell_type": "code",
   "execution_count": 165,
   "metadata": {},
   "outputs": [
    {
     "name": "stdout",
     "output_type": "stream",
     "text": [
      "<class 'pandas.core.frame.DataFrame'>\n",
      "RangeIndex: 840 entries, 0 to 839\n",
      "Data columns (total 4 columns):\n",
      " #   Column                        Non-Null Count  Dtype  \n",
      "---  ------                        --------------  -----  \n",
      " 0   Año                           840 non-null    object \n",
      " 1   Trimestre                     840 non-null    object \n",
      " 2   Provincia                     840 non-null    object \n",
      " 3   Accesos por cada 100 hogares  840 non-null    float64\n",
      "dtypes: float64(1), object(3)\n",
      "memory usage: 26.4+ KB\n"
     ]
    }
   ],
   "source": [
    "internet_penetracion.info()"
   ]
  },
  {
   "cell_type": "code",
   "execution_count": 166,
   "metadata": {},
   "outputs": [],
   "source": [
    "internet_acceso_BA = pd.read_csv (\"Datasets/Internet_BAF.csv\", delimiter=\",\",thousands='.', decimal=',')"
   ]
  },
  {
   "cell_type": "code",
   "execution_count": 167,
   "metadata": {},
   "outputs": [
    {
     "name": "stdout",
     "output_type": "stream",
     "text": [
      "<class 'pandas.core.frame.DataFrame'>\n",
      "RangeIndex: 840 entries, 0 to 839\n",
      "Data columns (total 6 columns):\n",
      " #   Column            Non-Null Count  Dtype \n",
      "---  ------            --------------  ----- \n",
      " 0   Año               840 non-null    int64 \n",
      " 1   Trimestre         840 non-null    int64 \n",
      " 2   Provincia         840 non-null    object\n",
      " 3   Banda ancha fija  840 non-null    int64 \n",
      " 4   Dial up           838 non-null    object\n",
      " 5   Total             840 non-null    int64 \n",
      "dtypes: int64(4), object(2)\n",
      "memory usage: 39.5+ KB\n"
     ]
    }
   ],
   "source": [
    "internet_acceso_BA.info()"
   ]
  },
  {
   "cell_type": "code",
   "execution_count": 168,
   "metadata": {},
   "outputs": [],
   "source": [
    "#reemplazar los valores -0 por 0 en la columna Dial up\n",
    "internet_acceso_BA['Dial up'] = internet_acceso_BA['Dial up'].replace('- 0',\"0\")"
   ]
  },
  {
   "cell_type": "code",
   "execution_count": 169,
   "metadata": {},
   "outputs": [],
   "source": [
    "#eliminar el . en el campo Dial Up\n",
    "internet_acceso_BA['Dial up'] = internet_acceso_BA['Dial up'].str.replace('.', '', regex=False)"
   ]
  },
  {
   "cell_type": "code",
   "execution_count": 170,
   "metadata": {},
   "outputs": [
    {
     "name": "stdout",
     "output_type": "stream",
     "text": [
      "<class 'pandas.core.frame.DataFrame'>\n",
      "RangeIndex: 840 entries, 0 to 839\n",
      "Data columns (total 6 columns):\n",
      " #   Column            Non-Null Count  Dtype \n",
      "---  ------            --------------  ----- \n",
      " 0   Año               840 non-null    int64 \n",
      " 1   Trimestre         840 non-null    int64 \n",
      " 2   Provincia         840 non-null    object\n",
      " 3   Banda ancha fija  840 non-null    int64 \n",
      " 4   Dial up           838 non-null    object\n",
      " 5   Total             840 non-null    int64 \n",
      "dtypes: int64(4), object(2)\n",
      "memory usage: 39.5+ KB\n"
     ]
    }
   ],
   "source": [
    "internet_acceso_BA.info()"
   ]
  },
  {
   "cell_type": "code",
   "execution_count": 171,
   "metadata": {},
   "outputs": [
    {
     "data": {
      "text/html": [
       "<div>\n",
       "<style scoped>\n",
       "    .dataframe tbody tr th:only-of-type {\n",
       "        vertical-align: middle;\n",
       "    }\n",
       "\n",
       "    .dataframe tbody tr th {\n",
       "        vertical-align: top;\n",
       "    }\n",
       "\n",
       "    .dataframe thead th {\n",
       "        text-align: right;\n",
       "    }\n",
       "</style>\n",
       "<table border=\"1\" class=\"dataframe\">\n",
       "  <thead>\n",
       "    <tr style=\"text-align: right;\">\n",
       "      <th></th>\n",
       "      <th>Año</th>\n",
       "      <th>Trimestre</th>\n",
       "      <th>Provincia</th>\n",
       "      <th>Banda ancha fija</th>\n",
       "      <th>Dial up</th>\n",
       "      <th>Total</th>\n",
       "    </tr>\n",
       "  </thead>\n",
       "  <tbody>\n",
       "    <tr>\n",
       "      <th>416</th>\n",
       "      <td>2018</td>\n",
       "      <td>2</td>\n",
       "      <td>Formosa</td>\n",
       "      <td>44554</td>\n",
       "      <td>NaN</td>\n",
       "      <td>44554</td>\n",
       "    </tr>\n",
       "    <tr>\n",
       "      <th>421</th>\n",
       "      <td>2018</td>\n",
       "      <td>2</td>\n",
       "      <td>Misiones</td>\n",
       "      <td>106147</td>\n",
       "      <td>NaN</td>\n",
       "      <td>106147</td>\n",
       "    </tr>\n",
       "  </tbody>\n",
       "</table>\n",
       "</div>"
      ],
      "text/plain": [
       "      Año  Trimestre Provincia  Banda ancha fija Dial up   Total\n",
       "416  2018          2   Formosa             44554     NaN   44554\n",
       "421  2018          2  Misiones            106147     NaN  106147"
      ]
     },
     "execution_count": 171,
     "metadata": {},
     "output_type": "execute_result"
    }
   ],
   "source": [
    "internet_acceso_BA[internet_acceso_BA['Dial up'].isnull()]"
   ]
  },
  {
   "cell_type": "code",
   "execution_count": 172,
   "metadata": {},
   "outputs": [],
   "source": [
    "#reemplazar los valores nulos con 0\n",
    "internet_acceso_BA['Dial up'].fillna(value=0, inplace=True)"
   ]
  },
  {
   "cell_type": "code",
   "execution_count": 173,
   "metadata": {},
   "outputs": [
    {
     "name": "stdout",
     "output_type": "stream",
     "text": [
      "<class 'pandas.core.frame.DataFrame'>\n",
      "RangeIndex: 840 entries, 0 to 839\n",
      "Data columns (total 6 columns):\n",
      " #   Column            Non-Null Count  Dtype \n",
      "---  ------            --------------  ----- \n",
      " 0   Año               840 non-null    int64 \n",
      " 1   Trimestre         840 non-null    int64 \n",
      " 2   Provincia         840 non-null    object\n",
      " 3   Banda ancha fija  840 non-null    int64 \n",
      " 4   Dial up           840 non-null    object\n",
      " 5   Total             840 non-null    int64 \n",
      "dtypes: int64(4), object(2)\n",
      "memory usage: 39.5+ KB\n"
     ]
    }
   ],
   "source": [
    "internet_acceso_BA.info()"
   ]
  },
  {
   "cell_type": "code",
   "execution_count": 174,
   "metadata": {},
   "outputs": [],
   "source": [
    "#cambiar el tipo Dial Up a int64\n",
    "internet_acceso_BA['Dial up'] = internet_acceso_BA['Dial up'].astype(int)"
   ]
  },
  {
   "cell_type": "code",
   "execution_count": 175,
   "metadata": {},
   "outputs": [],
   "source": [
    "#convertir los campos año, trimestre y provincia a variables categoricas\n",
    "internet_acceso_BA['Año'] = internet_acceso_BA['Año'].astype(str)\n",
    "internet_acceso_BA['Trimestre'] = internet_acceso_BA['Trimestre'].astype(str)\n",
    "internet_acceso_BA['Provincia'] = internet_acceso_BA['Provincia'].astype(str)"
   ]
  },
  {
   "cell_type": "code",
   "execution_count": 176,
   "metadata": {},
   "outputs": [
    {
     "name": "stdout",
     "output_type": "stream",
     "text": [
      "<class 'pandas.core.frame.DataFrame'>\n",
      "RangeIndex: 840 entries, 0 to 839\n",
      "Data columns (total 6 columns):\n",
      " #   Column            Non-Null Count  Dtype \n",
      "---  ------            --------------  ----- \n",
      " 0   Año               840 non-null    object\n",
      " 1   Trimestre         840 non-null    object\n",
      " 2   Provincia         840 non-null    object\n",
      " 3   Banda ancha fija  840 non-null    int64 \n",
      " 4   Dial up           840 non-null    int32 \n",
      " 5   Total             840 non-null    int64 \n",
      "dtypes: int32(1), int64(2), object(3)\n",
      "memory usage: 36.2+ KB\n"
     ]
    }
   ],
   "source": [
    "internet_acceso_BA.info()"
   ]
  },
  {
   "cell_type": "code",
   "execution_count": 177,
   "metadata": {},
   "outputs": [],
   "source": [
    "#Eliminar la columna total del df internet_acceso_BA\n",
    "internet_acceso_BA = internet_acceso_BA.drop('Total', axis=1)"
   ]
  },
  {
   "cell_type": "code",
   "execution_count": 178,
   "metadata": {},
   "outputs": [
    {
     "data": {
      "text/html": [
       "<div>\n",
       "<style scoped>\n",
       "    .dataframe tbody tr th:only-of-type {\n",
       "        vertical-align: middle;\n",
       "    }\n",
       "\n",
       "    .dataframe tbody tr th {\n",
       "        vertical-align: top;\n",
       "    }\n",
       "\n",
       "    .dataframe thead th {\n",
       "        text-align: right;\n",
       "    }\n",
       "</style>\n",
       "<table border=\"1\" class=\"dataframe\">\n",
       "  <thead>\n",
       "    <tr style=\"text-align: right;\">\n",
       "      <th></th>\n",
       "      <th>Año</th>\n",
       "      <th>Trimestre</th>\n",
       "      <th>Provincia</th>\n",
       "      <th>Banda ancha fija</th>\n",
       "      <th>Dial up</th>\n",
       "    </tr>\n",
       "  </thead>\n",
       "  <tbody>\n",
       "    <tr>\n",
       "      <th>0</th>\n",
       "      <td>2022</td>\n",
       "      <td>3</td>\n",
       "      <td>Buenos Aires</td>\n",
       "      <td>4715469</td>\n",
       "      <td>6199</td>\n",
       "    </tr>\n",
       "    <tr>\n",
       "      <th>1</th>\n",
       "      <td>2022</td>\n",
       "      <td>3</td>\n",
       "      <td>Capital Federal</td>\n",
       "      <td>1545534</td>\n",
       "      <td>2145</td>\n",
       "    </tr>\n",
       "    <tr>\n",
       "      <th>2</th>\n",
       "      <td>2022</td>\n",
       "      <td>3</td>\n",
       "      <td>Catamarca</td>\n",
       "      <td>70292</td>\n",
       "      <td>1</td>\n",
       "    </tr>\n",
       "    <tr>\n",
       "      <th>3</th>\n",
       "      <td>2022</td>\n",
       "      <td>3</td>\n",
       "      <td>Chaco</td>\n",
       "      <td>144141</td>\n",
       "      <td>5</td>\n",
       "    </tr>\n",
       "    <tr>\n",
       "      <th>4</th>\n",
       "      <td>2022</td>\n",
       "      <td>3</td>\n",
       "      <td>Chubut</td>\n",
       "      <td>164874</td>\n",
       "      <td>904</td>\n",
       "    </tr>\n",
       "  </tbody>\n",
       "</table>\n",
       "</div>"
      ],
      "text/plain": [
       "    Año Trimestre        Provincia  Banda ancha fija  Dial up\n",
       "0  2022         3     Buenos Aires           4715469     6199\n",
       "1  2022         3  Capital Federal           1545534     2145\n",
       "2  2022         3        Catamarca             70292        1\n",
       "3  2022         3            Chaco            144141        5\n",
       "4  2022         3           Chubut            164874      904"
      ]
     },
     "execution_count": 178,
     "metadata": {},
     "output_type": "execute_result"
    }
   ],
   "source": [
    "internet_acceso_BA.head()"
   ]
  },
  {
   "cell_type": "code",
   "execution_count": 179,
   "metadata": {},
   "outputs": [],
   "source": [
    "internet_acceso_tecnologia = pd.read_csv (\"Datasets/Internet_Accesos-por-tecnologia.csv\", delimiter=\",\",thousands='.', decimal=',')"
   ]
  },
  {
   "cell_type": "code",
   "execution_count": 180,
   "metadata": {},
   "outputs": [
    {
     "name": "stdout",
     "output_type": "stream",
     "text": [
      "<class 'pandas.core.frame.DataFrame'>\n",
      "RangeIndex: 840 entries, 0 to 839\n",
      "Data columns (total 9 columns):\n",
      " #   Column        Non-Null Count  Dtype \n",
      "---  ------        --------------  ----- \n",
      " 0   Año           840 non-null    int64 \n",
      " 1   Trimestre     840 non-null    int64 \n",
      " 2   Provincia     840 non-null    object\n",
      " 3   ADSL          840 non-null    int64 \n",
      " 4   Cablemodem    840 non-null    int64 \n",
      " 5   Fibra óptica  840 non-null    int64 \n",
      " 6   Wireless      840 non-null    int64 \n",
      " 7   Otros         840 non-null    int64 \n",
      " 8   Total         840 non-null    int64 \n",
      "dtypes: int64(8), object(1)\n",
      "memory usage: 59.2+ KB\n"
     ]
    }
   ],
   "source": [
    "internet_acceso_tecnologia.info()"
   ]
  },
  {
   "cell_type": "code",
   "execution_count": 181,
   "metadata": {},
   "outputs": [
    {
     "data": {
      "text/html": [
       "<div>\n",
       "<style scoped>\n",
       "    .dataframe tbody tr th:only-of-type {\n",
       "        vertical-align: middle;\n",
       "    }\n",
       "\n",
       "    .dataframe tbody tr th {\n",
       "        vertical-align: top;\n",
       "    }\n",
       "\n",
       "    .dataframe thead th {\n",
       "        text-align: right;\n",
       "    }\n",
       "</style>\n",
       "<table border=\"1\" class=\"dataframe\">\n",
       "  <thead>\n",
       "    <tr style=\"text-align: right;\">\n",
       "      <th></th>\n",
       "      <th>Año</th>\n",
       "      <th>Trimestre</th>\n",
       "      <th>Provincia</th>\n",
       "      <th>ADSL</th>\n",
       "      <th>Cablemodem</th>\n",
       "      <th>Fibra óptica</th>\n",
       "      <th>Wireless</th>\n",
       "      <th>Otros</th>\n",
       "      <th>Total</th>\n",
       "    </tr>\n",
       "  </thead>\n",
       "  <tbody>\n",
       "    <tr>\n",
       "      <th>0</th>\n",
       "      <td>2022</td>\n",
       "      <td>3</td>\n",
       "      <td>Buenos Aires</td>\n",
       "      <td>339648</td>\n",
       "      <td>2748325</td>\n",
       "      <td>1436433</td>\n",
       "      <td>126846</td>\n",
       "      <td>70416</td>\n",
       "      <td>4721668</td>\n",
       "    </tr>\n",
       "    <tr>\n",
       "      <th>1</th>\n",
       "      <td>2022</td>\n",
       "      <td>3</td>\n",
       "      <td>Capital Federal</td>\n",
       "      <td>140791</td>\n",
       "      <td>1240125</td>\n",
       "      <td>129218</td>\n",
       "      <td>5758</td>\n",
       "      <td>31787</td>\n",
       "      <td>1547679</td>\n",
       "    </tr>\n",
       "    <tr>\n",
       "      <th>2</th>\n",
       "      <td>2022</td>\n",
       "      <td>3</td>\n",
       "      <td>Catamarca</td>\n",
       "      <td>10010</td>\n",
       "      <td>10495</td>\n",
       "      <td>46224</td>\n",
       "      <td>1329</td>\n",
       "      <td>2235</td>\n",
       "      <td>70293</td>\n",
       "    </tr>\n",
       "    <tr>\n",
       "      <th>3</th>\n",
       "      <td>2022</td>\n",
       "      <td>3</td>\n",
       "      <td>Chaco</td>\n",
       "      <td>27164</td>\n",
       "      <td>61800</td>\n",
       "      <td>44645</td>\n",
       "      <td>8178</td>\n",
       "      <td>2359</td>\n",
       "      <td>144146</td>\n",
       "    </tr>\n",
       "    <tr>\n",
       "      <th>4</th>\n",
       "      <td>2022</td>\n",
       "      <td>3</td>\n",
       "      <td>Chubut</td>\n",
       "      <td>45377</td>\n",
       "      <td>72212</td>\n",
       "      <td>9574</td>\n",
       "      <td>29784</td>\n",
       "      <td>8831</td>\n",
       "      <td>165778</td>\n",
       "    </tr>\n",
       "  </tbody>\n",
       "</table>\n",
       "</div>"
      ],
      "text/plain": [
       "    Año  Trimestre        Provincia    ADSL  Cablemodem  Fibra óptica  \\\n",
       "0  2022          3     Buenos Aires  339648     2748325       1436433   \n",
       "1  2022          3  Capital Federal  140791     1240125        129218   \n",
       "2  2022          3        Catamarca   10010       10495         46224   \n",
       "3  2022          3            Chaco   27164       61800         44645   \n",
       "4  2022          3           Chubut   45377       72212          9574   \n",
       "\n",
       "   Wireless  Otros    Total  \n",
       "0    126846  70416  4721668  \n",
       "1      5758  31787  1547679  \n",
       "2      1329   2235    70293  \n",
       "3      8178   2359   144146  \n",
       "4     29784   8831   165778  "
      ]
     },
     "execution_count": 181,
     "metadata": {},
     "output_type": "execute_result"
    }
   ],
   "source": [
    "internet_acceso_tecnologia.head()"
   ]
  },
  {
   "cell_type": "code",
   "execution_count": 182,
   "metadata": {},
   "outputs": [],
   "source": [
    "#Eliminar la columna total del df internet_acceso_tecnologia\n",
    "internet_acceso_tecnologia = internet_acceso_tecnologia.drop('Total', axis=1)"
   ]
  },
  {
   "cell_type": "code",
   "execution_count": 183,
   "metadata": {},
   "outputs": [],
   "source": [
    "#convertimos las variables año, trimestre y provincia a variables categoricas\n",
    "internet_acceso_tecnologia['Año'] = internet_acceso_tecnologia['Año'].astype(str)\n",
    "internet_acceso_tecnologia['Trimestre'] = internet_acceso_tecnologia['Trimestre'].astype(str)\n",
    "internet_acceso_tecnologia['Provincia'] = internet_acceso_tecnologia['Provincia'].astype(str)"
   ]
  },
  {
   "cell_type": "code",
   "execution_count": 184,
   "metadata": {},
   "outputs": [
    {
     "data": {
      "text/html": [
       "<div>\n",
       "<style scoped>\n",
       "    .dataframe tbody tr th:only-of-type {\n",
       "        vertical-align: middle;\n",
       "    }\n",
       "\n",
       "    .dataframe tbody tr th {\n",
       "        vertical-align: top;\n",
       "    }\n",
       "\n",
       "    .dataframe thead th {\n",
       "        text-align: right;\n",
       "    }\n",
       "</style>\n",
       "<table border=\"1\" class=\"dataframe\">\n",
       "  <thead>\n",
       "    <tr style=\"text-align: right;\">\n",
       "      <th></th>\n",
       "      <th>Año</th>\n",
       "      <th>Trimestre</th>\n",
       "      <th>Provincia</th>\n",
       "      <th>ADSL</th>\n",
       "      <th>Cablemodem</th>\n",
       "      <th>Fibra óptica</th>\n",
       "      <th>Wireless</th>\n",
       "      <th>Otros</th>\n",
       "    </tr>\n",
       "  </thead>\n",
       "  <tbody>\n",
       "    <tr>\n",
       "      <th>0</th>\n",
       "      <td>2022</td>\n",
       "      <td>3</td>\n",
       "      <td>Buenos Aires</td>\n",
       "      <td>339648</td>\n",
       "      <td>2748325</td>\n",
       "      <td>1436433</td>\n",
       "      <td>126846</td>\n",
       "      <td>70416</td>\n",
       "    </tr>\n",
       "    <tr>\n",
       "      <th>1</th>\n",
       "      <td>2022</td>\n",
       "      <td>3</td>\n",
       "      <td>Capital Federal</td>\n",
       "      <td>140791</td>\n",
       "      <td>1240125</td>\n",
       "      <td>129218</td>\n",
       "      <td>5758</td>\n",
       "      <td>31787</td>\n",
       "    </tr>\n",
       "    <tr>\n",
       "      <th>2</th>\n",
       "      <td>2022</td>\n",
       "      <td>3</td>\n",
       "      <td>Catamarca</td>\n",
       "      <td>10010</td>\n",
       "      <td>10495</td>\n",
       "      <td>46224</td>\n",
       "      <td>1329</td>\n",
       "      <td>2235</td>\n",
       "    </tr>\n",
       "    <tr>\n",
       "      <th>3</th>\n",
       "      <td>2022</td>\n",
       "      <td>3</td>\n",
       "      <td>Chaco</td>\n",
       "      <td>27164</td>\n",
       "      <td>61800</td>\n",
       "      <td>44645</td>\n",
       "      <td>8178</td>\n",
       "      <td>2359</td>\n",
       "    </tr>\n",
       "    <tr>\n",
       "      <th>4</th>\n",
       "      <td>2022</td>\n",
       "      <td>3</td>\n",
       "      <td>Chubut</td>\n",
       "      <td>45377</td>\n",
       "      <td>72212</td>\n",
       "      <td>9574</td>\n",
       "      <td>29784</td>\n",
       "      <td>8831</td>\n",
       "    </tr>\n",
       "  </tbody>\n",
       "</table>\n",
       "</div>"
      ],
      "text/plain": [
       "    Año Trimestre        Provincia    ADSL  Cablemodem  Fibra óptica  \\\n",
       "0  2022         3     Buenos Aires  339648     2748325       1436433   \n",
       "1  2022         3  Capital Federal  140791     1240125        129218   \n",
       "2  2022         3        Catamarca   10010       10495         46224   \n",
       "3  2022         3            Chaco   27164       61800         44645   \n",
       "4  2022         3           Chubut   45377       72212          9574   \n",
       "\n",
       "   Wireless  Otros  \n",
       "0    126846  70416  \n",
       "1      5758  31787  \n",
       "2      1329   2235  \n",
       "3      8178   2359  \n",
       "4     29784   8831  "
      ]
     },
     "execution_count": 184,
     "metadata": {},
     "output_type": "execute_result"
    }
   ],
   "source": [
    "internet_acceso_tecnologia.head()"
   ]
  },
  {
   "cell_type": "code",
   "execution_count": 185,
   "metadata": {},
   "outputs": [],
   "source": [
    "internet_velmed_bajada = pd.read_csv (\"Datasets/historico_velocidad_internet.csv\", delimiter=\",\",thousands='.', decimal=',')"
   ]
  },
  {
   "cell_type": "code",
   "execution_count": 186,
   "metadata": {},
   "outputs": [
    {
     "name": "stdout",
     "output_type": "stream",
     "text": [
      "<class 'pandas.core.frame.DataFrame'>\n",
      "RangeIndex: 840 entries, 0 to 839\n",
      "Data columns (total 6 columns):\n",
      " #   Column                  Non-Null Count  Dtype  \n",
      "---  ------                  --------------  -----  \n",
      " 0   Año                     840 non-null    int64  \n",
      " 1   Trimestre               840 non-null    int64  \n",
      " 2   Provincia               840 non-null    object \n",
      " 3   Mbps (Media de bajada)  840 non-null    int64  \n",
      " 4   Unnamed: 4              0 non-null      float64\n",
      " 5   Unnamed: 5              0 non-null      float64\n",
      "dtypes: float64(2), int64(3), object(1)\n",
      "memory usage: 39.5+ KB\n"
     ]
    }
   ],
   "source": [
    "internet_velmed_bajada.info()"
   ]
  },
  {
   "cell_type": "code",
   "execution_count": 187,
   "metadata": {},
   "outputs": [],
   "source": [
    "#Eliminar las columnas sin registros \"unnamed\"\n",
    "internet_velmed_bajada = internet_velmed_bajada.drop(['Unnamed: 4', 'Unnamed: 5'], axis=1)"
   ]
  },
  {
   "cell_type": "code",
   "execution_count": 188,
   "metadata": {},
   "outputs": [],
   "source": [
    "#convertir las variables año, trimestre y provincia a variables categoricas\n",
    "internet_velmed_bajada['Año'] = internet_velmed_bajada['Año'].astype(str)\n",
    "internet_velmed_bajada['Trimestre'] = internet_velmed_bajada['Trimestre'].astype(str)\n",
    "internet_velmed_bajada['Provincia'] = internet_velmed_bajada['Provincia'].astype(str)"
   ]
  },
  {
   "cell_type": "code",
   "execution_count": 189,
   "metadata": {},
   "outputs": [
    {
     "data": {
      "text/html": [
       "<div>\n",
       "<style scoped>\n",
       "    .dataframe tbody tr th:only-of-type {\n",
       "        vertical-align: middle;\n",
       "    }\n",
       "\n",
       "    .dataframe tbody tr th {\n",
       "        vertical-align: top;\n",
       "    }\n",
       "\n",
       "    .dataframe thead th {\n",
       "        text-align: right;\n",
       "    }\n",
       "</style>\n",
       "<table border=\"1\" class=\"dataframe\">\n",
       "  <thead>\n",
       "    <tr style=\"text-align: right;\">\n",
       "      <th></th>\n",
       "      <th>Año</th>\n",
       "      <th>Trimestre</th>\n",
       "      <th>Provincia</th>\n",
       "      <th>Mbps (Media de bajada)</th>\n",
       "    </tr>\n",
       "  </thead>\n",
       "  <tbody>\n",
       "    <tr>\n",
       "      <th>0</th>\n",
       "      <td>2022</td>\n",
       "      <td>3</td>\n",
       "      <td>Buenos Aires</td>\n",
       "      <td>70</td>\n",
       "    </tr>\n",
       "    <tr>\n",
       "      <th>1</th>\n",
       "      <td>2022</td>\n",
       "      <td>3</td>\n",
       "      <td>Capital Federal</td>\n",
       "      <td>101</td>\n",
       "    </tr>\n",
       "    <tr>\n",
       "      <th>2</th>\n",
       "      <td>2022</td>\n",
       "      <td>3</td>\n",
       "      <td>Catamarca</td>\n",
       "      <td>61</td>\n",
       "    </tr>\n",
       "  </tbody>\n",
       "</table>\n",
       "</div>"
      ],
      "text/plain": [
       "    Año Trimestre        Provincia  Mbps (Media de bajada)\n",
       "0  2022         3     Buenos Aires                      70\n",
       "1  2022         3  Capital Federal                     101\n",
       "2  2022         3        Catamarca                      61"
      ]
     },
     "execution_count": 189,
     "metadata": {},
     "output_type": "execute_result"
    }
   ],
   "source": [
    "internet_velmed_bajada.head(3)"
   ]
  },
  {
   "cell_type": "code",
   "execution_count": 190,
   "metadata": {},
   "outputs": [],
   "source": [
    "#crear un data frame a partir de los dataframes anteriores \n",
    "internet_provincias = pd.merge(pd.merge(pd.merge(internet_penetracion, internet_acceso_BA, on=['Año', 'Trimestre', 'Provincia']), internet_acceso_tecnologia, on=['Año', 'Trimestre', 'Provincia']), internet_velmed_bajada, on=['Año', 'Trimestre', 'Provincia'])"
   ]
  },
  {
   "cell_type": "code",
   "execution_count": 191,
   "metadata": {},
   "outputs": [
    {
     "name": "stdout",
     "output_type": "stream",
     "text": [
      "<class 'pandas.core.frame.DataFrame'>\n",
      "Int64Index: 840 entries, 0 to 839\n",
      "Data columns (total 12 columns):\n",
      " #   Column                        Non-Null Count  Dtype  \n",
      "---  ------                        --------------  -----  \n",
      " 0   Año                           840 non-null    object \n",
      " 1   Trimestre                     840 non-null    object \n",
      " 2   Provincia                     840 non-null    object \n",
      " 3   Accesos por cada 100 hogares  840 non-null    float64\n",
      " 4   Banda ancha fija              840 non-null    int64  \n",
      " 5   Dial up                       840 non-null    int32  \n",
      " 6   ADSL                          840 non-null    int64  \n",
      " 7   Cablemodem                    840 non-null    int64  \n",
      " 8   Fibra óptica                  840 non-null    int64  \n",
      " 9   Wireless                      840 non-null    int64  \n",
      " 10  Otros                         840 non-null    int64  \n",
      " 11  Mbps (Media de bajada)        840 non-null    int64  \n",
      "dtypes: float64(1), int32(1), int64(7), object(3)\n",
      "memory usage: 82.0+ KB\n"
     ]
    }
   ],
   "source": [
    "internet_provincias.info()"
   ]
  },
  {
   "cell_type": "code",
   "execution_count": 192,
   "metadata": {},
   "outputs": [],
   "source": [
    "#poner los nombres de las columnas en minusculas.\n",
    "internet_provincias = internet_provincias.rename(columns=lambda x: x.lower())"
   ]
  },
  {
   "cell_type": "code",
   "execution_count": 193,
   "metadata": {},
   "outputs": [
    {
     "name": "stdout",
     "output_type": "stream",
     "text": [
      "<class 'pandas.core.frame.DataFrame'>\n",
      "Int64Index: 840 entries, 0 to 839\n",
      "Data columns (total 12 columns):\n",
      " #   Column                        Non-Null Count  Dtype  \n",
      "---  ------                        --------------  -----  \n",
      " 0   año                           840 non-null    object \n",
      " 1   trimestre                     840 non-null    object \n",
      " 2   provincia                     840 non-null    object \n",
      " 3   accesos por cada 100 hogares  840 non-null    float64\n",
      " 4   banda ancha fija              840 non-null    int64  \n",
      " 5   dial up                       840 non-null    int32  \n",
      " 6   adsl                          840 non-null    int64  \n",
      " 7   cablemodem                    840 non-null    int64  \n",
      " 8   fibra óptica                  840 non-null    int64  \n",
      " 9   wireless                      840 non-null    int64  \n",
      " 10  otros                         840 non-null    int64  \n",
      " 11  mbps (media de bajada)        840 non-null    int64  \n",
      "dtypes: float64(1), int32(1), int64(7), object(3)\n",
      "memory usage: 82.0+ KB\n"
     ]
    }
   ],
   "source": [
    "internet_provincias.info()"
   ]
  },
  {
   "cell_type": "code",
   "execution_count": 194,
   "metadata": {},
   "outputs": [
    {
     "data": {
      "text/html": [
       "<div>\n",
       "<style scoped>\n",
       "    .dataframe tbody tr th:only-of-type {\n",
       "        vertical-align: middle;\n",
       "    }\n",
       "\n",
       "    .dataframe tbody tr th {\n",
       "        vertical-align: top;\n",
       "    }\n",
       "\n",
       "    .dataframe thead th {\n",
       "        text-align: right;\n",
       "    }\n",
       "</style>\n",
       "<table border=\"1\" class=\"dataframe\">\n",
       "  <thead>\n",
       "    <tr style=\"text-align: right;\">\n",
       "      <th></th>\n",
       "      <th>año</th>\n",
       "      <th>trimestre</th>\n",
       "      <th>provincia</th>\n",
       "      <th>accesos por cada 100 hogares</th>\n",
       "      <th>banda ancha fija</th>\n",
       "      <th>dial up</th>\n",
       "      <th>adsl</th>\n",
       "      <th>cablemodem</th>\n",
       "      <th>fibra óptica</th>\n",
       "      <th>wireless</th>\n",
       "      <th>otros</th>\n",
       "      <th>mbps (media de bajada)</th>\n",
       "    </tr>\n",
       "  </thead>\n",
       "  <tbody>\n",
       "    <tr>\n",
       "      <th>0</th>\n",
       "      <td>2022</td>\n",
       "      <td>3</td>\n",
       "      <td>Buenos Aires</td>\n",
       "      <td>78.11</td>\n",
       "      <td>4715469</td>\n",
       "      <td>6199</td>\n",
       "      <td>339648</td>\n",
       "      <td>2748325</td>\n",
       "      <td>1436433</td>\n",
       "      <td>126846</td>\n",
       "      <td>70416</td>\n",
       "      <td>70</td>\n",
       "    </tr>\n",
       "    <tr>\n",
       "      <th>1</th>\n",
       "      <td>2022</td>\n",
       "      <td>3</td>\n",
       "      <td>Capital Federal</td>\n",
       "      <td>122.28</td>\n",
       "      <td>1545534</td>\n",
       "      <td>2145</td>\n",
       "      <td>140791</td>\n",
       "      <td>1240125</td>\n",
       "      <td>129218</td>\n",
       "      <td>5758</td>\n",
       "      <td>31787</td>\n",
       "      <td>101</td>\n",
       "    </tr>\n",
       "    <tr>\n",
       "      <th>2</th>\n",
       "      <td>2022</td>\n",
       "      <td>3</td>\n",
       "      <td>Catamarca</td>\n",
       "      <td>65.33</td>\n",
       "      <td>70292</td>\n",
       "      <td>1</td>\n",
       "      <td>10010</td>\n",
       "      <td>10495</td>\n",
       "      <td>46224</td>\n",
       "      <td>1329</td>\n",
       "      <td>2235</td>\n",
       "      <td>61</td>\n",
       "    </tr>\n",
       "    <tr>\n",
       "      <th>3</th>\n",
       "      <td>2022</td>\n",
       "      <td>3</td>\n",
       "      <td>Chaco</td>\n",
       "      <td>43.86</td>\n",
       "      <td>144141</td>\n",
       "      <td>5</td>\n",
       "      <td>27164</td>\n",
       "      <td>61800</td>\n",
       "      <td>44645</td>\n",
       "      <td>8178</td>\n",
       "      <td>2359</td>\n",
       "      <td>53</td>\n",
       "    </tr>\n",
       "    <tr>\n",
       "      <th>4</th>\n",
       "      <td>2022</td>\n",
       "      <td>3</td>\n",
       "      <td>Chubut</td>\n",
       "      <td>84.38</td>\n",
       "      <td>164874</td>\n",
       "      <td>904</td>\n",
       "      <td>45377</td>\n",
       "      <td>72212</td>\n",
       "      <td>9574</td>\n",
       "      <td>29784</td>\n",
       "      <td>8831</td>\n",
       "      <td>16</td>\n",
       "    </tr>\n",
       "  </tbody>\n",
       "</table>\n",
       "</div>"
      ],
      "text/plain": [
       "    año trimestre        provincia  accesos por cada 100 hogares  \\\n",
       "0  2022         3     Buenos Aires                         78.11   \n",
       "1  2022         3  Capital Federal                        122.28   \n",
       "2  2022         3        Catamarca                         65.33   \n",
       "3  2022         3            Chaco                         43.86   \n",
       "4  2022         3           Chubut                         84.38   \n",
       "\n",
       "   banda ancha fija  dial up    adsl  cablemodem  fibra óptica  wireless  \\\n",
       "0           4715469     6199  339648     2748325       1436433    126846   \n",
       "1           1545534     2145  140791     1240125        129218      5758   \n",
       "2             70292        1   10010       10495         46224      1329   \n",
       "3            144141        5   27164       61800         44645      8178   \n",
       "4            164874      904   45377       72212          9574     29784   \n",
       "\n",
       "   otros  mbps (media de bajada)  \n",
       "0  70416                      70  \n",
       "1  31787                     101  \n",
       "2   2235                      61  \n",
       "3   2359                      53  \n",
       "4   8831                      16  "
      ]
     },
     "execution_count": 194,
     "metadata": {},
     "output_type": "execute_result"
    }
   ],
   "source": [
    "internet_provincias.head()"
   ]
  },
  {
   "cell_type": "code",
   "execution_count": 195,
   "metadata": {},
   "outputs": [],
   "source": [
    "#normalizar las columnas numericas\n",
    "internet_provincias['banda ancha fija'] = internet_provincias['banda ancha fija'] / 1000000\n",
    "internet_provincias['dial up'] = internet_provincias['dial up'] / 1000000\n",
    "internet_provincias['adsl'] = internet_provincias['adsl'] / 1000000\n",
    "internet_provincias['cablemodem'] = internet_provincias['cablemodem'] / 1000000\n",
    "internet_provincias['fibra óptica'] = internet_provincias['fibra óptica'] / 1000000\n",
    "internet_provincias['wireless'] = internet_provincias['wireless'] / 1000000\n",
    "internet_provincias['otros'] = internet_provincias['otros'] / 1000000"
   ]
  },
  {
   "cell_type": "code",
   "execution_count": 196,
   "metadata": {},
   "outputs": [
    {
     "data": {
      "text/html": [
       "<div>\n",
       "<style scoped>\n",
       "    .dataframe tbody tr th:only-of-type {\n",
       "        vertical-align: middle;\n",
       "    }\n",
       "\n",
       "    .dataframe tbody tr th {\n",
       "        vertical-align: top;\n",
       "    }\n",
       "\n",
       "    .dataframe thead th {\n",
       "        text-align: right;\n",
       "    }\n",
       "</style>\n",
       "<table border=\"1\" class=\"dataframe\">\n",
       "  <thead>\n",
       "    <tr style=\"text-align: right;\">\n",
       "      <th></th>\n",
       "      <th>año</th>\n",
       "      <th>trimestre</th>\n",
       "      <th>provincia</th>\n",
       "      <th>accesos por cada 100 hogares</th>\n",
       "      <th>banda ancha fija</th>\n",
       "      <th>dial up</th>\n",
       "      <th>adsl</th>\n",
       "      <th>cablemodem</th>\n",
       "      <th>fibra óptica</th>\n",
       "      <th>wireless</th>\n",
       "      <th>otros</th>\n",
       "      <th>mbps (media de bajada)</th>\n",
       "    </tr>\n",
       "  </thead>\n",
       "  <tbody>\n",
       "    <tr>\n",
       "      <th>0</th>\n",
       "      <td>2022</td>\n",
       "      <td>3</td>\n",
       "      <td>Buenos Aires</td>\n",
       "      <td>78.11</td>\n",
       "      <td>4.715469</td>\n",
       "      <td>0.006199</td>\n",
       "      <td>0.339648</td>\n",
       "      <td>2.748325</td>\n",
       "      <td>1.436433</td>\n",
       "      <td>0.126846</td>\n",
       "      <td>0.070416</td>\n",
       "      <td>70</td>\n",
       "    </tr>\n",
       "    <tr>\n",
       "      <th>1</th>\n",
       "      <td>2022</td>\n",
       "      <td>3</td>\n",
       "      <td>Capital Federal</td>\n",
       "      <td>122.28</td>\n",
       "      <td>1.545534</td>\n",
       "      <td>0.002145</td>\n",
       "      <td>0.140791</td>\n",
       "      <td>1.240125</td>\n",
       "      <td>0.129218</td>\n",
       "      <td>0.005758</td>\n",
       "      <td>0.031787</td>\n",
       "      <td>101</td>\n",
       "    </tr>\n",
       "    <tr>\n",
       "      <th>2</th>\n",
       "      <td>2022</td>\n",
       "      <td>3</td>\n",
       "      <td>Catamarca</td>\n",
       "      <td>65.33</td>\n",
       "      <td>0.070292</td>\n",
       "      <td>0.000001</td>\n",
       "      <td>0.010010</td>\n",
       "      <td>0.010495</td>\n",
       "      <td>0.046224</td>\n",
       "      <td>0.001329</td>\n",
       "      <td>0.002235</td>\n",
       "      <td>61</td>\n",
       "    </tr>\n",
       "    <tr>\n",
       "      <th>3</th>\n",
       "      <td>2022</td>\n",
       "      <td>3</td>\n",
       "      <td>Chaco</td>\n",
       "      <td>43.86</td>\n",
       "      <td>0.144141</td>\n",
       "      <td>0.000005</td>\n",
       "      <td>0.027164</td>\n",
       "      <td>0.061800</td>\n",
       "      <td>0.044645</td>\n",
       "      <td>0.008178</td>\n",
       "      <td>0.002359</td>\n",
       "      <td>53</td>\n",
       "    </tr>\n",
       "    <tr>\n",
       "      <th>4</th>\n",
       "      <td>2022</td>\n",
       "      <td>3</td>\n",
       "      <td>Chubut</td>\n",
       "      <td>84.38</td>\n",
       "      <td>0.164874</td>\n",
       "      <td>0.000904</td>\n",
       "      <td>0.045377</td>\n",
       "      <td>0.072212</td>\n",
       "      <td>0.009574</td>\n",
       "      <td>0.029784</td>\n",
       "      <td>0.008831</td>\n",
       "      <td>16</td>\n",
       "    </tr>\n",
       "  </tbody>\n",
       "</table>\n",
       "</div>"
      ],
      "text/plain": [
       "    año trimestre        provincia  accesos por cada 100 hogares  \\\n",
       "0  2022         3     Buenos Aires                         78.11   \n",
       "1  2022         3  Capital Federal                        122.28   \n",
       "2  2022         3        Catamarca                         65.33   \n",
       "3  2022         3            Chaco                         43.86   \n",
       "4  2022         3           Chubut                         84.38   \n",
       "\n",
       "   banda ancha fija   dial up      adsl  cablemodem  fibra óptica  wireless  \\\n",
       "0          4.715469  0.006199  0.339648    2.748325      1.436433  0.126846   \n",
       "1          1.545534  0.002145  0.140791    1.240125      0.129218  0.005758   \n",
       "2          0.070292  0.000001  0.010010    0.010495      0.046224  0.001329   \n",
       "3          0.144141  0.000005  0.027164    0.061800      0.044645  0.008178   \n",
       "4          0.164874  0.000904  0.045377    0.072212      0.009574  0.029784   \n",
       "\n",
       "      otros  mbps (media de bajada)  \n",
       "0  0.070416                      70  \n",
       "1  0.031787                     101  \n",
       "2  0.002235                      61  \n",
       "3  0.002359                      53  \n",
       "4  0.008831                      16  "
      ]
     },
     "execution_count": 196,
     "metadata": {},
     "output_type": "execute_result"
    }
   ],
   "source": [
    "internet_provincias.head()"
   ]
  },
  {
   "cell_type": "code",
   "execution_count": 197,
   "metadata": {},
   "outputs": [],
   "source": [
    "#cargar el dataframe de las provincias con su poblacion por año\n",
    "poblacion_argentina = pd.read_csv (\"Datasets/poblacion argentina provincias 2014 a 2022.csv\", delimiter=\";\",decimal=',')"
   ]
  },
  {
   "cell_type": "code",
   "execution_count": 198,
   "metadata": {},
   "outputs": [
    {
     "name": "stdout",
     "output_type": "stream",
     "text": [
      "<class 'pandas.core.frame.DataFrame'>\n",
      "RangeIndex: 840 entries, 0 to 839\n",
      "Data columns (total 6 columns):\n",
      " #   Column      Non-Null Count  Dtype  \n",
      "---  ------      --------------  -----  \n",
      " 0   año         840 non-null    int64  \n",
      " 1   trimestre   840 non-null    int64  \n",
      " 2   provincia   840 non-null    object \n",
      " 3   poblacion   840 non-null    float64\n",
      " 4   Unnamed: 4  0 non-null      float64\n",
      " 5   Unnamed: 5  0 non-null      float64\n",
      "dtypes: float64(3), int64(2), object(1)\n",
      "memory usage: 39.5+ KB\n"
     ]
    }
   ],
   "source": [
    "poblacion_argentina.info()"
   ]
  },
  {
   "cell_type": "code",
   "execution_count": 199,
   "metadata": {},
   "outputs": [],
   "source": [
    "poblacion_argentina['año'] = poblacion_argentina['año'].astype(str)\n",
    "poblacion_argentina['trimestre'] = poblacion_argentina['trimestre'].astype(str)\n",
    "poblacion_argentina['provincia'] = poblacion_argentina['provincia'].astype(str)"
   ]
  },
  {
   "cell_type": "code",
   "execution_count": 200,
   "metadata": {},
   "outputs": [],
   "source": [
    "#Eliminar las columnas unnamed sin registros.\n",
    "poblacion_argentina = poblacion_argentina.drop(['Unnamed: 4', 'Unnamed: 5'], axis=1)\n"
   ]
  },
  {
   "cell_type": "code",
   "execution_count": 201,
   "metadata": {},
   "outputs": [
    {
     "name": "stdout",
     "output_type": "stream",
     "text": [
      "<class 'pandas.core.frame.DataFrame'>\n",
      "RangeIndex: 840 entries, 0 to 839\n",
      "Data columns (total 4 columns):\n",
      " #   Column     Non-Null Count  Dtype  \n",
      "---  ------     --------------  -----  \n",
      " 0   año        840 non-null    object \n",
      " 1   trimestre  840 non-null    object \n",
      " 2   provincia  840 non-null    object \n",
      " 3   poblacion  840 non-null    float64\n",
      "dtypes: float64(1), object(3)\n",
      "memory usage: 26.4+ KB\n"
     ]
    }
   ],
   "source": [
    "poblacion_argentina.info()"
   ]
  },
  {
   "cell_type": "code",
   "execution_count": 202,
   "metadata": {},
   "outputs": [],
   "source": [
    "#unir el df de internet provincias con el df de poblacion\n",
    "internet_provincias = pd.merge(internet_provincias, poblacion_argentina, on=['año', 'trimestre', 'provincia'])"
   ]
  },
  {
   "cell_type": "code",
   "execution_count": 203,
   "metadata": {},
   "outputs": [
    {
     "data": {
      "text/html": [
       "<div>\n",
       "<style scoped>\n",
       "    .dataframe tbody tr th:only-of-type {\n",
       "        vertical-align: middle;\n",
       "    }\n",
       "\n",
       "    .dataframe tbody tr th {\n",
       "        vertical-align: top;\n",
       "    }\n",
       "\n",
       "    .dataframe thead th {\n",
       "        text-align: right;\n",
       "    }\n",
       "</style>\n",
       "<table border=\"1\" class=\"dataframe\">\n",
       "  <thead>\n",
       "    <tr style=\"text-align: right;\">\n",
       "      <th></th>\n",
       "      <th>año</th>\n",
       "      <th>trimestre</th>\n",
       "      <th>provincia</th>\n",
       "      <th>accesos por cada 100 hogares</th>\n",
       "      <th>banda ancha fija</th>\n",
       "      <th>dial up</th>\n",
       "      <th>adsl</th>\n",
       "      <th>cablemodem</th>\n",
       "      <th>fibra óptica</th>\n",
       "      <th>wireless</th>\n",
       "      <th>otros</th>\n",
       "      <th>mbps (media de bajada)</th>\n",
       "      <th>poblacion</th>\n",
       "    </tr>\n",
       "  </thead>\n",
       "  <tbody>\n",
       "    <tr>\n",
       "      <th>0</th>\n",
       "      <td>2022</td>\n",
       "      <td>3</td>\n",
       "      <td>Buenos Aires</td>\n",
       "      <td>78.11</td>\n",
       "      <td>4.715469</td>\n",
       "      <td>0.006199</td>\n",
       "      <td>0.339648</td>\n",
       "      <td>2.748325</td>\n",
       "      <td>1.436433</td>\n",
       "      <td>0.126846</td>\n",
       "      <td>0.070416</td>\n",
       "      <td>70</td>\n",
       "      <td>17.57</td>\n",
       "    </tr>\n",
       "    <tr>\n",
       "      <th>1</th>\n",
       "      <td>2022</td>\n",
       "      <td>3</td>\n",
       "      <td>Capital Federal</td>\n",
       "      <td>122.28</td>\n",
       "      <td>1.545534</td>\n",
       "      <td>0.002145</td>\n",
       "      <td>0.140791</td>\n",
       "      <td>1.240125</td>\n",
       "      <td>0.129218</td>\n",
       "      <td>0.005758</td>\n",
       "      <td>0.031787</td>\n",
       "      <td>101</td>\n",
       "      <td>3.12</td>\n",
       "    </tr>\n",
       "    <tr>\n",
       "      <th>2</th>\n",
       "      <td>2022</td>\n",
       "      <td>3</td>\n",
       "      <td>Catamarca</td>\n",
       "      <td>65.33</td>\n",
       "      <td>0.070292</td>\n",
       "      <td>0.000001</td>\n",
       "      <td>0.010010</td>\n",
       "      <td>0.010495</td>\n",
       "      <td>0.046224</td>\n",
       "      <td>0.001329</td>\n",
       "      <td>0.002235</td>\n",
       "      <td>61</td>\n",
       "      <td>0.43</td>\n",
       "    </tr>\n",
       "    <tr>\n",
       "      <th>3</th>\n",
       "      <td>2022</td>\n",
       "      <td>3</td>\n",
       "      <td>Chaco</td>\n",
       "      <td>43.86</td>\n",
       "      <td>0.144141</td>\n",
       "      <td>0.000005</td>\n",
       "      <td>0.027164</td>\n",
       "      <td>0.061800</td>\n",
       "      <td>0.044645</td>\n",
       "      <td>0.008178</td>\n",
       "      <td>0.002359</td>\n",
       "      <td>53</td>\n",
       "      <td>1.14</td>\n",
       "    </tr>\n",
       "    <tr>\n",
       "      <th>4</th>\n",
       "      <td>2022</td>\n",
       "      <td>3</td>\n",
       "      <td>Chubut</td>\n",
       "      <td>84.38</td>\n",
       "      <td>0.164874</td>\n",
       "      <td>0.000904</td>\n",
       "      <td>0.045377</td>\n",
       "      <td>0.072212</td>\n",
       "      <td>0.009574</td>\n",
       "      <td>0.029784</td>\n",
       "      <td>0.008831</td>\n",
       "      <td>16</td>\n",
       "      <td>0.60</td>\n",
       "    </tr>\n",
       "  </tbody>\n",
       "</table>\n",
       "</div>"
      ],
      "text/plain": [
       "    año trimestre        provincia  accesos por cada 100 hogares  \\\n",
       "0  2022         3     Buenos Aires                         78.11   \n",
       "1  2022         3  Capital Federal                        122.28   \n",
       "2  2022         3        Catamarca                         65.33   \n",
       "3  2022         3            Chaco                         43.86   \n",
       "4  2022         3           Chubut                         84.38   \n",
       "\n",
       "   banda ancha fija   dial up      adsl  cablemodem  fibra óptica  wireless  \\\n",
       "0          4.715469  0.006199  0.339648    2.748325      1.436433  0.126846   \n",
       "1          1.545534  0.002145  0.140791    1.240125      0.129218  0.005758   \n",
       "2          0.070292  0.000001  0.010010    0.010495      0.046224  0.001329   \n",
       "3          0.144141  0.000005  0.027164    0.061800      0.044645  0.008178   \n",
       "4          0.164874  0.000904  0.045377    0.072212      0.009574  0.029784   \n",
       "\n",
       "      otros  mbps (media de bajada)  poblacion  \n",
       "0  0.070416                      70      17.57  \n",
       "1  0.031787                     101       3.12  \n",
       "2  0.002235                      61       0.43  \n",
       "3  0.002359                      53       1.14  \n",
       "4  0.008831                      16       0.60  "
      ]
     },
     "execution_count": 203,
     "metadata": {},
     "output_type": "execute_result"
    }
   ],
   "source": [
    "internet_provincias.head()"
   ]
  },
  {
   "cell_type": "code",
   "execution_count": 204,
   "metadata": {},
   "outputs": [],
   "source": [
    "#normalizar las variables por porcentaje de poblacion \n",
    "internet_provincias['banda ancha fija'] = internet_provincias['banda ancha fija'] * 100/internet_provincias['poblacion'] \n",
    "internet_provincias['dial up'] = internet_provincias['dial up'] * 100/internet_provincias['poblacion'] \n",
    "internet_provincias['adsl'] = internet_provincias['adsl'] * 100/internet_provincias['poblacion'] \n",
    "internet_provincias['cablemodem'] = internet_provincias['cablemodem'] * 100/internet_provincias['poblacion'] \n",
    "internet_provincias['fibra óptica'] = internet_provincias['fibra óptica'] * 100/internet_provincias['poblacion'] \n",
    "internet_provincias['wireless'] = internet_provincias['wireless'] * 100/internet_provincias['poblacion'] \n",
    "internet_provincias['otros'] = internet_provincias['otros'] * 100/internet_provincias['poblacion'] "
   ]
  },
  {
   "cell_type": "code",
   "execution_count": 205,
   "metadata": {},
   "outputs": [
    {
     "data": {
      "text/html": [
       "<div>\n",
       "<style scoped>\n",
       "    .dataframe tbody tr th:only-of-type {\n",
       "        vertical-align: middle;\n",
       "    }\n",
       "\n",
       "    .dataframe tbody tr th {\n",
       "        vertical-align: top;\n",
       "    }\n",
       "\n",
       "    .dataframe thead th {\n",
       "        text-align: right;\n",
       "    }\n",
       "</style>\n",
       "<table border=\"1\" class=\"dataframe\">\n",
       "  <thead>\n",
       "    <tr style=\"text-align: right;\">\n",
       "      <th></th>\n",
       "      <th>año</th>\n",
       "      <th>trimestre</th>\n",
       "      <th>provincia</th>\n",
       "      <th>accesos por cada 100 hogares</th>\n",
       "      <th>banda ancha fija</th>\n",
       "      <th>dial up</th>\n",
       "      <th>adsl</th>\n",
       "      <th>cablemodem</th>\n",
       "      <th>fibra óptica</th>\n",
       "      <th>wireless</th>\n",
       "      <th>otros</th>\n",
       "      <th>mbps (media de bajada)</th>\n",
       "      <th>poblacion</th>\n",
       "    </tr>\n",
       "  </thead>\n",
       "  <tbody>\n",
       "    <tr>\n",
       "      <th>0</th>\n",
       "      <td>2022</td>\n",
       "      <td>3</td>\n",
       "      <td>Buenos Aires</td>\n",
       "      <td>78.11</td>\n",
       "      <td>26.84</td>\n",
       "      <td>0.04</td>\n",
       "      <td>1.93</td>\n",
       "      <td>15.64</td>\n",
       "      <td>8.18</td>\n",
       "      <td>0.72</td>\n",
       "      <td>0.40</td>\n",
       "      <td>70</td>\n",
       "      <td>17.57</td>\n",
       "    </tr>\n",
       "    <tr>\n",
       "      <th>1</th>\n",
       "      <td>2022</td>\n",
       "      <td>3</td>\n",
       "      <td>Capital Federal</td>\n",
       "      <td>122.28</td>\n",
       "      <td>49.54</td>\n",
       "      <td>0.07</td>\n",
       "      <td>4.51</td>\n",
       "      <td>39.75</td>\n",
       "      <td>4.14</td>\n",
       "      <td>0.18</td>\n",
       "      <td>1.02</td>\n",
       "      <td>101</td>\n",
       "      <td>3.12</td>\n",
       "    </tr>\n",
       "    <tr>\n",
       "      <th>2</th>\n",
       "      <td>2022</td>\n",
       "      <td>3</td>\n",
       "      <td>Catamarca</td>\n",
       "      <td>65.33</td>\n",
       "      <td>16.35</td>\n",
       "      <td>0.00</td>\n",
       "      <td>2.33</td>\n",
       "      <td>2.44</td>\n",
       "      <td>10.75</td>\n",
       "      <td>0.31</td>\n",
       "      <td>0.52</td>\n",
       "      <td>61</td>\n",
       "      <td>0.43</td>\n",
       "    </tr>\n",
       "    <tr>\n",
       "      <th>3</th>\n",
       "      <td>2022</td>\n",
       "      <td>3</td>\n",
       "      <td>Chaco</td>\n",
       "      <td>43.86</td>\n",
       "      <td>12.64</td>\n",
       "      <td>0.00</td>\n",
       "      <td>2.38</td>\n",
       "      <td>5.42</td>\n",
       "      <td>3.92</td>\n",
       "      <td>0.72</td>\n",
       "      <td>0.21</td>\n",
       "      <td>53</td>\n",
       "      <td>1.14</td>\n",
       "    </tr>\n",
       "    <tr>\n",
       "      <th>4</th>\n",
       "      <td>2022</td>\n",
       "      <td>3</td>\n",
       "      <td>Chubut</td>\n",
       "      <td>84.38</td>\n",
       "      <td>27.48</td>\n",
       "      <td>0.15</td>\n",
       "      <td>7.56</td>\n",
       "      <td>12.04</td>\n",
       "      <td>1.60</td>\n",
       "      <td>4.96</td>\n",
       "      <td>1.47</td>\n",
       "      <td>16</td>\n",
       "      <td>0.60</td>\n",
       "    </tr>\n",
       "  </tbody>\n",
       "</table>\n",
       "</div>"
      ],
      "text/plain": [
       "    año trimestre        provincia  accesos por cada 100 hogares  \\\n",
       "0  2022         3     Buenos Aires                         78.11   \n",
       "1  2022         3  Capital Federal                        122.28   \n",
       "2  2022         3        Catamarca                         65.33   \n",
       "3  2022         3            Chaco                         43.86   \n",
       "4  2022         3           Chubut                         84.38   \n",
       "\n",
       "   banda ancha fija  dial up  adsl  cablemodem  fibra óptica  wireless  otros  \\\n",
       "0             26.84     0.04  1.93       15.64          8.18      0.72   0.40   \n",
       "1             49.54     0.07  4.51       39.75          4.14      0.18   1.02   \n",
       "2             16.35     0.00  2.33        2.44         10.75      0.31   0.52   \n",
       "3             12.64     0.00  2.38        5.42          3.92      0.72   0.21   \n",
       "4             27.48     0.15  7.56       12.04          1.60      4.96   1.47   \n",
       "\n",
       "   mbps (media de bajada)  poblacion  \n",
       "0                      70      17.57  \n",
       "1                     101       3.12  \n",
       "2                      61       0.43  \n",
       "3                      53       1.14  \n",
       "4                      16       0.60  "
      ]
     },
     "execution_count": 205,
     "metadata": {},
     "output_type": "execute_result"
    }
   ],
   "source": [
    "internet_provincias.head().round(2)"
   ]
  },
  {
   "cell_type": "code",
   "execution_count": 206,
   "metadata": {},
   "outputs": [],
   "source": [
    "#exportar el data frame \"internet_provincias\" como csv \n",
    "internet_provincias.to_csv('Datasets limpios/internet_provincias.csv', index=False)"
   ]
  },
  {
   "attachments": {},
   "cell_type": "markdown",
   "metadata": {},
   "source": [
    "DATASETS PARA EL ANÁLISIS DEL COMPORTAMIENTO ASOCIADO ENTRE SERVICIOS DE COMUNICACIÓN"
   ]
  },
  {
   "cell_type": "code",
   "execution_count": 207,
   "metadata": {},
   "outputs": [],
   "source": [
    "#Cargar el data set tel_movil en un df\n",
    "total_tel_movil = pd.read_csv (\"Datasets/Telefonia_movil.csv\", delimiter=\",\",thousands='.', decimal=',')"
   ]
  },
  {
   "cell_type": "code",
   "execution_count": 208,
   "metadata": {},
   "outputs": [
    {
     "name": "stdout",
     "output_type": "stream",
     "text": [
      "<class 'pandas.core.frame.DataFrame'>\n",
      "RangeIndex: 39 entries, 0 to 38\n",
      "Data columns (total 6 columns):\n",
      " #   Column                       Non-Null Count  Dtype \n",
      "---  ------                       --------------  ----- \n",
      " 0   Año                          39 non-null     int64 \n",
      " 1   Trimestre                    39 non-null     int64 \n",
      " 2   Total de accesos pospago     39 non-null     int64 \n",
      " 3   Total de accesos prepago     39 non-null     int64 \n",
      " 4   Total de accesos operativos  39 non-null     int64 \n",
      " 5   Periodo                      39 non-null     object\n",
      "dtypes: int64(5), object(1)\n",
      "memory usage: 2.0+ KB\n"
     ]
    }
   ],
   "source": [
    "#obtener la info del df\n",
    "total_tel_movil.info()"
   ]
  },
  {
   "cell_type": "code",
   "execution_count": 209,
   "metadata": {},
   "outputs": [],
   "source": [
    "#Eliminar columnas innecesarias\n",
    "total_tel_movil = total_tel_movil.drop('Total de accesos pospago', axis=1)\n",
    "total_tel_movil = total_tel_movil.drop('Total de accesos prepago', axis=1)\n",
    "total_tel_movil = total_tel_movil.drop('Periodo', axis=1)"
   ]
  },
  {
   "cell_type": "code",
   "execution_count": 210,
   "metadata": {},
   "outputs": [],
   "source": [
    "# Convertir a tipo str los campos Año y Trimestre.\n",
    "total_tel_movil['Año'] = total_tel_movil['Año'].astype(str)\n",
    "total_tel_movil['Trimestre'] = total_tel_movil['Trimestre'].astype(str)"
   ]
  },
  {
   "cell_type": "code",
   "execution_count": 211,
   "metadata": {},
   "outputs": [],
   "source": [
    "#Cambiar el nombre al campo Accesos por cada 100 hab tel_movil\n",
    "total_tel_movil.rename(columns={'Total de accesos operativos': 'Total tel movil'}, inplace=True)"
   ]
  },
  {
   "cell_type": "code",
   "execution_count": 212,
   "metadata": {},
   "outputs": [],
   "source": [
    "total_tel_movil = total_tel_movil.drop(total_tel_movil[total_tel_movil['Año'].isin(['2013', '2014'])].index).reset_index(drop=True)"
   ]
  },
  {
   "cell_type": "code",
   "execution_count": 213,
   "metadata": {},
   "outputs": [
    {
     "data": {
      "text/plain": [
       "(31, 3)"
      ]
     },
     "execution_count": 213,
     "metadata": {},
     "output_type": "execute_result"
    }
   ],
   "source": [
    "total_tel_movil.shape"
   ]
  },
  {
   "cell_type": "code",
   "execution_count": 214,
   "metadata": {},
   "outputs": [
    {
     "data": {
      "text/html": [
       "<div>\n",
       "<style scoped>\n",
       "    .dataframe tbody tr th:only-of-type {\n",
       "        vertical-align: middle;\n",
       "    }\n",
       "\n",
       "    .dataframe tbody tr th {\n",
       "        vertical-align: top;\n",
       "    }\n",
       "\n",
       "    .dataframe thead th {\n",
       "        text-align: right;\n",
       "    }\n",
       "</style>\n",
       "<table border=\"1\" class=\"dataframe\">\n",
       "  <thead>\n",
       "    <tr style=\"text-align: right;\">\n",
       "      <th></th>\n",
       "      <th>Año</th>\n",
       "      <th>Trimestre</th>\n",
       "      <th>Total tel movil</th>\n",
       "    </tr>\n",
       "  </thead>\n",
       "  <tbody>\n",
       "    <tr>\n",
       "      <th>0</th>\n",
       "      <td>2015</td>\n",
       "      <td>1</td>\n",
       "      <td>60221863</td>\n",
       "    </tr>\n",
       "    <tr>\n",
       "      <th>1</th>\n",
       "      <td>2015</td>\n",
       "      <td>2</td>\n",
       "      <td>59875466</td>\n",
       "    </tr>\n",
       "    <tr>\n",
       "      <th>2</th>\n",
       "      <td>2015</td>\n",
       "      <td>3</td>\n",
       "      <td>60732511</td>\n",
       "    </tr>\n",
       "    <tr>\n",
       "      <th>3</th>\n",
       "      <td>2015</td>\n",
       "      <td>4</td>\n",
       "      <td>61842011</td>\n",
       "    </tr>\n",
       "    <tr>\n",
       "      <th>4</th>\n",
       "      <td>2016</td>\n",
       "      <td>1</td>\n",
       "      <td>61486761</td>\n",
       "    </tr>\n",
       "  </tbody>\n",
       "</table>\n",
       "</div>"
      ],
      "text/plain": [
       "    Año Trimestre  Total tel movil\n",
       "0  2015         1         60221863\n",
       "1  2015         2         59875466\n",
       "2  2015         3         60732511\n",
       "3  2015         4         61842011\n",
       "4  2016         1         61486761"
      ]
     },
     "execution_count": 214,
     "metadata": {},
     "output_type": "execute_result"
    }
   ],
   "source": [
    "total_tel_movil.head()"
   ]
  },
  {
   "cell_type": "code",
   "execution_count": 215,
   "metadata": {},
   "outputs": [],
   "source": [
    "#Cargar el data set tel_fija en un df\n",
    "total_tel_fija = pd.read_csv (\"Datasets/telefonia_fija.csv\", delimiter=\",\",thousands='.', decimal=',')"
   ]
  },
  {
   "cell_type": "code",
   "execution_count": 216,
   "metadata": {},
   "outputs": [
    {
     "name": "stdout",
     "output_type": "stream",
     "text": [
      "<class 'pandas.core.frame.DataFrame'>\n",
      "RangeIndex: 35 entries, 0 to 34\n",
      "Data columns (total 8 columns):\n",
      " #   Column                              Non-Null Count  Dtype \n",
      "---  ------                              --------------  ----- \n",
      " 0   Año                                 35 non-null     int64 \n",
      " 1   Trimestre                           35 non-null     int64 \n",
      " 2   Accesos telefonía fija (total)      35 non-null     int64 \n",
      " 3   Accesos telefonía fija (hogares)    35 non-null     int64 \n",
      " 4   Accesos telefonía fija (comercial)  35 non-null     int64 \n",
      " 5   Accesos telefonía fija (gobierno)   35 non-null     int64 \n",
      " 6   Accesos telefonía fija (otros)      35 non-null     int64 \n",
      " 7   Periodo                             35 non-null     object\n",
      "dtypes: int64(7), object(1)\n",
      "memory usage: 2.3+ KB\n"
     ]
    }
   ],
   "source": [
    "#obtener la info del df\n",
    "total_tel_fija.info()"
   ]
  },
  {
   "cell_type": "code",
   "execution_count": 217,
   "metadata": {},
   "outputs": [],
   "source": [
    "#Eliminar columnas innecesarias\n",
    "total_tel_fija = total_tel_fija.drop('Accesos telefonía fija (hogares)', axis=1)\n",
    "total_tel_fija = total_tel_fija.drop('Accesos telefonía fija (comercial)', axis=1)\n",
    "total_tel_fija = total_tel_fija.drop('Accesos telefonía fija (gobierno)', axis=1)\n",
    "total_tel_fija = total_tel_fija.drop('Accesos telefonía fija (otros)', axis=1)\n",
    "total_tel_fija = total_tel_fija.drop('Periodo', axis=1)"
   ]
  },
  {
   "cell_type": "code",
   "execution_count": 218,
   "metadata": {},
   "outputs": [],
   "source": [
    "# Convertir a tipo str los campos Año y Trimestre.\n",
    "total_tel_fija['Año'] = total_tel_fija['Año'].astype(str)\n",
    "total_tel_fija['Trimestre'] = total_tel_fija['Trimestre'].astype(str)"
   ]
  },
  {
   "cell_type": "code",
   "execution_count": 219,
   "metadata": {},
   "outputs": [],
   "source": [
    "#Cambiar el nombre al campo Accesos por cada 100 hab tel_movil\n",
    "total_tel_fija.rename(columns={'Accesos telefonía fija (total)': 'Total tel fija'}, inplace=True)"
   ]
  },
  {
   "cell_type": "code",
   "execution_count": 220,
   "metadata": {},
   "outputs": [],
   "source": [
    "#eliminar los registros 2013 y 2014\n",
    "total_tel_fija = total_tel_fija.drop(total_tel_fija[total_tel_fija['Año'].isin(['2013', '2014'])].index).reset_index(drop=True)"
   ]
  },
  {
   "cell_type": "code",
   "execution_count": 221,
   "metadata": {},
   "outputs": [
    {
     "data": {
      "text/plain": [
       "(31, 3)"
      ]
     },
     "execution_count": 221,
     "metadata": {},
     "output_type": "execute_result"
    }
   ],
   "source": [
    "total_tel_fija.shape"
   ]
  },
  {
   "cell_type": "code",
   "execution_count": 222,
   "metadata": {},
   "outputs": [
    {
     "data": {
      "text/html": [
       "<div>\n",
       "<style scoped>\n",
       "    .dataframe tbody tr th:only-of-type {\n",
       "        vertical-align: middle;\n",
       "    }\n",
       "\n",
       "    .dataframe tbody tr th {\n",
       "        vertical-align: top;\n",
       "    }\n",
       "\n",
       "    .dataframe thead th {\n",
       "        text-align: right;\n",
       "    }\n",
       "</style>\n",
       "<table border=\"1\" class=\"dataframe\">\n",
       "  <thead>\n",
       "    <tr style=\"text-align: right;\">\n",
       "      <th></th>\n",
       "      <th>Año</th>\n",
       "      <th>Trimestre</th>\n",
       "      <th>Total tel fija</th>\n",
       "    </tr>\n",
       "  </thead>\n",
       "  <tbody>\n",
       "    <tr>\n",
       "      <th>0</th>\n",
       "      <td>2015</td>\n",
       "      <td>1</td>\n",
       "      <td>10086221</td>\n",
       "    </tr>\n",
       "    <tr>\n",
       "      <th>1</th>\n",
       "      <td>2015</td>\n",
       "      <td>2</td>\n",
       "      <td>9991190</td>\n",
       "    </tr>\n",
       "    <tr>\n",
       "      <th>2</th>\n",
       "      <td>2015</td>\n",
       "      <td>3</td>\n",
       "      <td>10050617</td>\n",
       "    </tr>\n",
       "    <tr>\n",
       "      <th>3</th>\n",
       "      <td>2015</td>\n",
       "      <td>4</td>\n",
       "      <td>9975798</td>\n",
       "    </tr>\n",
       "    <tr>\n",
       "      <th>4</th>\n",
       "      <td>2016</td>\n",
       "      <td>1</td>\n",
       "      <td>10239381</td>\n",
       "    </tr>\n",
       "  </tbody>\n",
       "</table>\n",
       "</div>"
      ],
      "text/plain": [
       "    Año Trimestre  Total tel fija\n",
       "0  2015         1        10086221\n",
       "1  2015         2         9991190\n",
       "2  2015         3        10050617\n",
       "3  2015         4         9975798\n",
       "4  2016         1        10239381"
      ]
     },
     "execution_count": 222,
     "metadata": {},
     "output_type": "execute_result"
    }
   ],
   "source": [
    "#obtener la info del df\n",
    "total_tel_fija.head()"
   ]
  },
  {
   "cell_type": "code",
   "execution_count": 223,
   "metadata": {},
   "outputs": [],
   "source": [
    "#Cargar el data set tel_fija en un df\n",
    "total_television = pd.read_csv (\"Datasets/television.csv\", delimiter=\",\",thousands='.', decimal=',')"
   ]
  },
  {
   "cell_type": "code",
   "execution_count": 224,
   "metadata": {},
   "outputs": [
    {
     "name": "stdout",
     "output_type": "stream",
     "text": [
      "<class 'pandas.core.frame.DataFrame'>\n",
      "RangeIndex: 34 entries, 0 to 33\n",
      "Data columns (total 5 columns):\n",
      " #   Column                      Non-Null Count  Dtype \n",
      "---  ------                      --------------  ----- \n",
      " 0   Año                         34 non-null     int64 \n",
      " 1   Trimestre                   34 non-null     int64 \n",
      " 2   Accesos TV por suscripción  34 non-null     int64 \n",
      " 3   Accesos TV satelital        34 non-null     int64 \n",
      " 4   Periodo                     34 non-null     object\n",
      "dtypes: int64(4), object(1)\n",
      "memory usage: 1.5+ KB\n"
     ]
    }
   ],
   "source": [
    "#obtener la info del df\n",
    "total_television.info()"
   ]
  },
  {
   "cell_type": "code",
   "execution_count": 225,
   "metadata": {},
   "outputs": [],
   "source": [
    "#obtener el total de accesos a tv de paga\n",
    "total_television['Total tv paga'] = total_television['Accesos TV por suscripción'] + total_television['Accesos TV satelital']"
   ]
  },
  {
   "cell_type": "code",
   "execution_count": 226,
   "metadata": {},
   "outputs": [],
   "source": [
    "#Eliminar columnas innecesarias\n",
    "total_television = total_television.drop('Accesos TV por suscripción', axis=1)\n",
    "total_television = total_television.drop('Accesos TV satelital', axis=1)\n",
    "total_television = total_television.drop('Periodo', axis=1)"
   ]
  },
  {
   "cell_type": "code",
   "execution_count": 227,
   "metadata": {},
   "outputs": [],
   "source": [
    "# Convertir a tipo str los campos Año y Trimestre.\n",
    "total_television['Año'] = total_television['Año'].astype(str)\n",
    "total_television['Trimestre'] = total_television['Trimestre'].astype(str)"
   ]
  },
  {
   "cell_type": "code",
   "execution_count": 228,
   "metadata": {},
   "outputs": [],
   "source": [
    "#eliminar los registros 2013 y 2014\n",
    "total_television = total_television.drop(total_television[total_television['Año'].isin(['2013', '2014'])].index).reset_index(drop=True)"
   ]
  },
  {
   "cell_type": "code",
   "execution_count": 229,
   "metadata": {},
   "outputs": [
    {
     "data": {
      "text/plain": [
       "(31, 3)"
      ]
     },
     "execution_count": 229,
     "metadata": {},
     "output_type": "execute_result"
    }
   ],
   "source": [
    "total_television.shape"
   ]
  },
  {
   "cell_type": "code",
   "execution_count": 230,
   "metadata": {},
   "outputs": [
    {
     "data": {
      "text/html": [
       "<div>\n",
       "<style scoped>\n",
       "    .dataframe tbody tr th:only-of-type {\n",
       "        vertical-align: middle;\n",
       "    }\n",
       "\n",
       "    .dataframe tbody tr th {\n",
       "        vertical-align: top;\n",
       "    }\n",
       "\n",
       "    .dataframe thead th {\n",
       "        text-align: right;\n",
       "    }\n",
       "</style>\n",
       "<table border=\"1\" class=\"dataframe\">\n",
       "  <thead>\n",
       "    <tr style=\"text-align: right;\">\n",
       "      <th></th>\n",
       "      <th>Año</th>\n",
       "      <th>Trimestre</th>\n",
       "      <th>Total tv paga</th>\n",
       "    </tr>\n",
       "  </thead>\n",
       "  <tbody>\n",
       "    <tr>\n",
       "      <th>0</th>\n",
       "      <td>2022</td>\n",
       "      <td>3</td>\n",
       "      <td>9730630</td>\n",
       "    </tr>\n",
       "    <tr>\n",
       "      <th>1</th>\n",
       "      <td>2022</td>\n",
       "      <td>2</td>\n",
       "      <td>9712221</td>\n",
       "    </tr>\n",
       "    <tr>\n",
       "      <th>2</th>\n",
       "      <td>2022</td>\n",
       "      <td>1</td>\n",
       "      <td>9614455</td>\n",
       "    </tr>\n",
       "    <tr>\n",
       "      <th>3</th>\n",
       "      <td>2021</td>\n",
       "      <td>4</td>\n",
       "      <td>9606975</td>\n",
       "    </tr>\n",
       "    <tr>\n",
       "      <th>4</th>\n",
       "      <td>2021</td>\n",
       "      <td>3</td>\n",
       "      <td>9824463</td>\n",
       "    </tr>\n",
       "  </tbody>\n",
       "</table>\n",
       "</div>"
      ],
      "text/plain": [
       "    Año Trimestre  Total tv paga\n",
       "0  2022         3        9730630\n",
       "1  2022         2        9712221\n",
       "2  2022         1        9614455\n",
       "3  2021         4        9606975\n",
       "4  2021         3        9824463"
      ]
     },
     "execution_count": 230,
     "metadata": {},
     "output_type": "execute_result"
    }
   ],
   "source": [
    "total_television.head()"
   ]
  },
  {
   "cell_type": "code",
   "execution_count": 231,
   "metadata": {},
   "outputs": [],
   "source": [
    "#Cargar el data set tel_fija en un df\n",
    "total_internet = pd.read_csv (\"Datasets/internet.csv\", delimiter=\",\",thousands='.', decimal=',')"
   ]
  },
  {
   "cell_type": "code",
   "execution_count": 232,
   "metadata": {},
   "outputs": [
    {
     "name": "stdout",
     "output_type": "stream",
     "text": [
      "<class 'pandas.core.frame.DataFrame'>\n",
      "RangeIndex: 35 entries, 0 to 34\n",
      "Data columns (total 6 columns):\n",
      " #   Column            Non-Null Count  Dtype \n",
      "---  ------            --------------  ----- \n",
      " 0   Año               35 non-null     int64 \n",
      " 1   Trimestre         35 non-null     int64 \n",
      " 2   Banda ancha fija  35 non-null     int64 \n",
      " 3   Dial up           35 non-null     int64 \n",
      " 4   Total             35 non-null     int64 \n",
      " 5   Periodo           35 non-null     object\n",
      "dtypes: int64(5), object(1)\n",
      "memory usage: 1.8+ KB\n"
     ]
    }
   ],
   "source": [
    "#obtener la info del df\n",
    "total_internet.info()"
   ]
  },
  {
   "cell_type": "code",
   "execution_count": 233,
   "metadata": {},
   "outputs": [],
   "source": [
    "#Eliminar columnas innecesarias\n",
    "total_internet = total_internet.drop('Banda ancha fija', axis=1)\n",
    "total_internet = total_internet.drop('Dial up', axis=1)\n",
    "total_internet = total_internet.drop('Periodo', axis=1)"
   ]
  },
  {
   "cell_type": "code",
   "execution_count": 234,
   "metadata": {},
   "outputs": [],
   "source": [
    "# Convertir a tipo str los campos Año y Trimestre.\n",
    "total_internet['Año'] = total_internet['Año'].astype(str)\n",
    "total_internet['Trimestre'] = total_internet['Trimestre'].astype(str)"
   ]
  },
  {
   "cell_type": "code",
   "execution_count": 235,
   "metadata": {},
   "outputs": [],
   "source": [
    "#eliminar los registros 2013 y 2014\n",
    "total_internet = total_internet.drop(total_internet[total_internet['Año'].isin(['2013', '2014'])].index).reset_index(drop=True)"
   ]
  },
  {
   "cell_type": "code",
   "execution_count": 236,
   "metadata": {},
   "outputs": [],
   "source": [
    "#cambiar nombre  a la columna total \n",
    "total_internet.rename(columns={'Total': 'Total internet'}, inplace=True)"
   ]
  },
  {
   "cell_type": "code",
   "execution_count": 237,
   "metadata": {},
   "outputs": [
    {
     "data": {
      "text/plain": [
       "(31, 3)"
      ]
     },
     "execution_count": 237,
     "metadata": {},
     "output_type": "execute_result"
    }
   ],
   "source": [
    "total_internet.shape"
   ]
  },
  {
   "cell_type": "code",
   "execution_count": 238,
   "metadata": {},
   "outputs": [
    {
     "data": {
      "text/html": [
       "<div>\n",
       "<style scoped>\n",
       "    .dataframe tbody tr th:only-of-type {\n",
       "        vertical-align: middle;\n",
       "    }\n",
       "\n",
       "    .dataframe tbody tr th {\n",
       "        vertical-align: top;\n",
       "    }\n",
       "\n",
       "    .dataframe thead th {\n",
       "        text-align: right;\n",
       "    }\n",
       "</style>\n",
       "<table border=\"1\" class=\"dataframe\">\n",
       "  <thead>\n",
       "    <tr style=\"text-align: right;\">\n",
       "      <th></th>\n",
       "      <th>Año</th>\n",
       "      <th>Trimestre</th>\n",
       "      <th>Total internet</th>\n",
       "    </tr>\n",
       "  </thead>\n",
       "  <tbody>\n",
       "    <tr>\n",
       "      <th>0</th>\n",
       "      <td>2022</td>\n",
       "      <td>3</td>\n",
       "      <td>11091128</td>\n",
       "    </tr>\n",
       "    <tr>\n",
       "      <th>1</th>\n",
       "      <td>2022</td>\n",
       "      <td>2</td>\n",
       "      <td>10958684</td>\n",
       "    </tr>\n",
       "    <tr>\n",
       "      <th>2</th>\n",
       "      <td>2022</td>\n",
       "      <td>1</td>\n",
       "      <td>10624009</td>\n",
       "    </tr>\n",
       "    <tr>\n",
       "      <th>3</th>\n",
       "      <td>2021</td>\n",
       "      <td>4</td>\n",
       "      <td>10489794</td>\n",
       "    </tr>\n",
       "    <tr>\n",
       "      <th>4</th>\n",
       "      <td>2021</td>\n",
       "      <td>3</td>\n",
       "      <td>10085541</td>\n",
       "    </tr>\n",
       "  </tbody>\n",
       "</table>\n",
       "</div>"
      ],
      "text/plain": [
       "    Año Trimestre  Total internet\n",
       "0  2022         3        11091128\n",
       "1  2022         2        10958684\n",
       "2  2022         1        10624009\n",
       "3  2021         4        10489794\n",
       "4  2021         3        10085541"
      ]
     },
     "execution_count": 238,
     "metadata": {},
     "output_type": "execute_result"
    }
   ],
   "source": [
    "total_internet.head()"
   ]
  },
  {
   "cell_type": "code",
   "execution_count": 239,
   "metadata": {},
   "outputs": [],
   "source": [
    "#crear un data frame a partir de los dataframes anteriores \n",
    "serv_comunicación = pd.merge(pd.merge(pd.merge(total_internet, total_tel_fija, on=['Año', 'Trimestre']), total_tel_movil, on=['Año', 'Trimestre']), total_television, on=['Año', 'Trimestre'])"
   ]
  },
  {
   "cell_type": "code",
   "execution_count": 240,
   "metadata": {},
   "outputs": [],
   "source": [
    "#poner los nombres de las columnas en minusculas.\n",
    "serv_comunicación = serv_comunicación.rename(columns=lambda x: x.lower())"
   ]
  },
  {
   "cell_type": "code",
   "execution_count": 241,
   "metadata": {},
   "outputs": [
    {
     "data": {
      "text/html": [
       "<div>\n",
       "<style scoped>\n",
       "    .dataframe tbody tr th:only-of-type {\n",
       "        vertical-align: middle;\n",
       "    }\n",
       "\n",
       "    .dataframe tbody tr th {\n",
       "        vertical-align: top;\n",
       "    }\n",
       "\n",
       "    .dataframe thead th {\n",
       "        text-align: right;\n",
       "    }\n",
       "</style>\n",
       "<table border=\"1\" class=\"dataframe\">\n",
       "  <thead>\n",
       "    <tr style=\"text-align: right;\">\n",
       "      <th></th>\n",
       "      <th>año</th>\n",
       "      <th>trimestre</th>\n",
       "      <th>total internet</th>\n",
       "      <th>total tel fija</th>\n",
       "      <th>total tel movil</th>\n",
       "      <th>total tv paga</th>\n",
       "    </tr>\n",
       "  </thead>\n",
       "  <tbody>\n",
       "    <tr>\n",
       "      <th>0</th>\n",
       "      <td>2022</td>\n",
       "      <td>3</td>\n",
       "      <td>11091128</td>\n",
       "      <td>7525944</td>\n",
       "      <td>59713503</td>\n",
       "      <td>9730630</td>\n",
       "    </tr>\n",
       "    <tr>\n",
       "      <th>1</th>\n",
       "      <td>2022</td>\n",
       "      <td>2</td>\n",
       "      <td>10958684</td>\n",
       "      <td>7633074</td>\n",
       "      <td>59502291</td>\n",
       "      <td>9712221</td>\n",
       "    </tr>\n",
       "    <tr>\n",
       "      <th>2</th>\n",
       "      <td>2022</td>\n",
       "      <td>1</td>\n",
       "      <td>10624009</td>\n",
       "      <td>7664854</td>\n",
       "      <td>59402581</td>\n",
       "      <td>9614455</td>\n",
       "    </tr>\n",
       "    <tr>\n",
       "      <th>3</th>\n",
       "      <td>2021</td>\n",
       "      <td>4</td>\n",
       "      <td>10489794</td>\n",
       "      <td>7626355</td>\n",
       "      <td>59065827</td>\n",
       "      <td>9606975</td>\n",
       "    </tr>\n",
       "    <tr>\n",
       "      <th>4</th>\n",
       "      <td>2021</td>\n",
       "      <td>3</td>\n",
       "      <td>10085541</td>\n",
       "      <td>7003303</td>\n",
       "      <td>57812509</td>\n",
       "      <td>9824463</td>\n",
       "    </tr>\n",
       "  </tbody>\n",
       "</table>\n",
       "</div>"
      ],
      "text/plain": [
       "    año trimestre  total internet  total tel fija  total tel movil  \\\n",
       "0  2022         3        11091128         7525944         59713503   \n",
       "1  2022         2        10958684         7633074         59502291   \n",
       "2  2022         1        10624009         7664854         59402581   \n",
       "3  2021         4        10489794         7626355         59065827   \n",
       "4  2021         3        10085541         7003303         57812509   \n",
       "\n",
       "   total tv paga  \n",
       "0        9730630  \n",
       "1        9712221  \n",
       "2        9614455  \n",
       "3        9606975  \n",
       "4        9824463  "
      ]
     },
     "execution_count": 241,
     "metadata": {},
     "output_type": "execute_result"
    }
   ],
   "source": [
    "serv_comunicación.head()"
   ]
  },
  {
   "cell_type": "code",
   "execution_count": 242,
   "metadata": {},
   "outputs": [],
   "source": [
    "#normalizar las columnas numericas\n",
    "serv_comunicación['total internet'] = serv_comunicación['total internet'] / 1000000\n",
    "serv_comunicación['total tel fija'] = serv_comunicación['total tel fija'] / 1000000\n",
    "serv_comunicación['total tel movil'] = serv_comunicación['total tel movil'] / 1000000\n",
    "serv_comunicación['total tv paga'] = serv_comunicación['total tv paga'] / 1000000\n"
   ]
  },
  {
   "cell_type": "code",
   "execution_count": 243,
   "metadata": {},
   "outputs": [],
   "source": [
    "#eliminar los registros del tercer trimestre del 2022\n",
    "serv_comunicación = serv_comunicación.drop(\n",
    "    serv_comunicación[(serv_comunicación['año'] == \"2022\") & (serv_comunicación['trimestre'] == \"3\")].index)"
   ]
  },
  {
   "cell_type": "code",
   "execution_count": 244,
   "metadata": {},
   "outputs": [],
   "source": [
    "#exportar el data frame como csv \n",
    "serv_comunicación.to_csv('Datasets limpios/servicios de comunicacion por año.csv', index=False)"
   ]
  }
 ],
 "metadata": {
  "kernelspec": {
   "display_name": "Python 3",
   "language": "python",
   "name": "python3"
  },
  "language_info": {
   "codemirror_mode": {
    "name": "ipython",
    "version": 3
   },
   "file_extension": ".py",
   "mimetype": "text/x-python",
   "name": "python",
   "nbconvert_exporter": "python",
   "pygments_lexer": "ipython3",
   "version": "3.9.0"
  },
  "orig_nbformat": 4
 },
 "nbformat": 4,
 "nbformat_minor": 2
}
